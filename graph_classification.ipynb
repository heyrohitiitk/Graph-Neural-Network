{
 "cells": [
  {
   "cell_type": "code",
   "execution_count": 38,
   "metadata": {},
   "outputs": [],
   "source": [
    "import dgl\n",
    "import torch\n",
    "import torch.nn as nn\n",
    "import _pickle as cPickle\n",
    "import torch.nn.functional as F\n",
    "import bz2\n",
    "from dgl.dataloading import GraphDataLoader\n",
    "from torch.utils.data.sampler import SubsetRandomSampler\n",
    "from dgl.nn import GraphConv\n",
    "from sklearn.metrics import classification_report\n",
    "from torchmetrics.functional import precision_recall"
   ]
  },
  {
   "cell_type": "code",
   "execution_count": 39,
   "metadata": {},
   "outputs": [],
   "source": [
    "class GCN(nn.Module):\n",
    "    def __init__(self, in_feats, h_feats,out_feats):\n",
    "        super(GCN, self).__init__()\n",
    "        self.conv1 = GraphConv(in_feats, h_feats)\n",
    "        self.conv2 = GraphConv(h_feats, out_feats)\n",
    "\n",
    "    def forward(self, g, in_feat):\n",
    "        # print(\"In GCN\")\n",
    "        h = F.relu(self.conv1(g, in_feat))\n",
    "        h = F.relu(self.conv2(g, h))\n",
    "        with g.local_scope():\n",
    "            g.ndata['h'] = h\n",
    "            return dgl.mean_nodes(g, 'h')"
   ]
  },
  {
   "cell_type": "code",
   "execution_count": 40,
   "metadata": {},
   "outputs": [],
   "source": [
    "class MLP(nn.Module):\n",
    "    def __init__(self,in_feats,h_feats,num_classes):\n",
    "        super(MLP,self).__init__()\n",
    "        self.fc1=nn.Linear(in_feats,h_feats)\n",
    "        self.fc2=nn.Linear(h_feats,num_classes)\n",
    "    \n",
    "    def forward(self,x):\n",
    "        # print(\"In MLP\")\n",
    "        x=F.relu(self.fc1(x))\n",
    "        return F.softmax(self.fc2(x),dim=1)"
   ]
  },
  {
   "cell_type": "code",
   "execution_count": 41,
   "metadata": {},
   "outputs": [],
   "source": [
    "class Model(nn.Module):\n",
    "    def __init__(self,in_feats,h_feats,out_feats,num_class):\n",
    "        super(Model,self).__init__()\n",
    "        self.conv=GCN(in_feats,h_feats,out_feats)\n",
    "        self.fc=MLP(out_feats,10,num_class)\n",
    "    \n",
    "    def forward(self,g,feats):\n",
    "        # print(\"In Model\")\n",
    "        c1=self.conv(g,feats)\n",
    "        c2=self.fc(c1)\n",
    "        return c2"
   ]
  },
  {
   "cell_type": "code",
   "execution_count": 42,
   "metadata": {},
   "outputs": [],
   "source": [
    "# g= bz2.BZ2File(\"kfold2/graph_dataset/graphs_data_All.pbz2\", 'rb')\n",
    "# dataset=cPickle.load(g)\n",
    "\n",
    "g1= bz2.BZ2File(\"kfold3/graph_dataset/graphs_data_1000.pbz2\", 'rb')\n",
    "g2= bz2.BZ2File(\"kfold3/graph_dataset/graphs_data_2000.pbz2\", 'rb')\n",
    "g3= bz2.BZ2File(\"kfold3/graph_dataset/graphs_data_3000.pbz2\", 'rb')\n",
    "g4= bz2.BZ2File(\"kfold3/graph_dataset/graphs_data_3600.pbz2\", 'rb')\n",
    "dataset1 = cPickle.load(g1)\n",
    "dataset2 = cPickle.load(g2)\n",
    "dataset3 = cPickle.load(g3)\n",
    "dataset4 = cPickle.load(g4)\n",
    "dataset=dataset1+dataset2+dataset3+dataset4"
   ]
  },
  {
   "cell_type": "code",
   "execution_count": 43,
   "metadata": {},
   "outputs": [],
   "source": [
    "g_test=bz2.BZ2File(\"kfold2/graph_dataset/graphs_data_All_real.pbz2\", 'rb')\n",
    "dataset_test = cPickle.load(g_test)"
   ]
  },
  {
   "cell_type": "code",
   "execution_count": 44,
   "metadata": {},
   "outputs": [],
   "source": [
    "import random\n",
    "random.shuffle(dataset)"
   ]
  },
  {
   "cell_type": "code",
   "execution_count": 45,
   "metadata": {},
   "outputs": [
    {
     "name": "stdout",
     "output_type": "stream",
     "text": [
      "242\n"
     ]
    }
   ],
   "source": [
    "num_test=len(dataset_test)\n",
    "print(num_test)"
   ]
  },
  {
   "cell_type": "code",
   "execution_count": 46,
   "metadata": {},
   "outputs": [],
   "source": [
    "test_sampler = SubsetRandomSampler(torch.arange(num_test))\n",
    "test_dataloader = GraphDataLoader(dataset_test, sampler=test_sampler, batch_size=5, drop_last=False)"
   ]
  },
  {
   "cell_type": "code",
   "execution_count": 47,
   "metadata": {},
   "outputs": [],
   "source": [
    "# Create the model with given dimensions\n",
    "model = Model(5,10,5,3)\n",
    "optimizer = torch.optim.Adam(model.parameters(), lr=0.001)"
   ]
  },
  {
   "cell_type": "code",
   "execution_count": 48,
   "metadata": {},
   "outputs": [
    {
     "name": "stderr",
     "output_type": "stream",
     "text": [
      "/home/rohit/.local/lib/python3.8/site-packages/torch/autocast_mode.py:162: UserWarning: User provided device_type of 'cuda', but CUDA is not available. Disabling\n",
      "  warnings.warn('User provided device_type of \\'cuda\\', but CUDA is not available. Disabling')\n"
     ]
    }
   ],
   "source": [
    "folds=10\n",
    "num_examples=len(dataset)\n",
    "fsize=num_examples//10\n",
    "val_reports=[]\n",
    "for i in range(folds):\n",
    "    trll = 0\n",
    "    trlr = i * fsize\n",
    "    vall = trlr\n",
    "    valr = i * fsize + fsize\n",
    "    trrl = valr\n",
    "    trrr = num_examples\n",
    "\n",
    "    train_left_indices = torch.arange(trll,trlr)\n",
    "    train_right_indices = torch.arange(trrl,trrr)\n",
    "\n",
    "    train_indices = torch.cat([train_left_indices,train_right_indices])\n",
    "    val_indices = torch.arange(vall,valr)\n",
    "\n",
    "    train_sampler = SubsetRandomSampler(train_indices)\n",
    "    val_sampler = SubsetRandomSampler(val_indices)\n",
    "\n",
    "    train_dataloader = GraphDataLoader(dataset, sampler=train_sampler, batch_size=5, drop_last=False)\n",
    "    val_dataloader = GraphDataLoader(dataset, sampler=val_sampler, batch_size=5, drop_last=False)\n",
    "\n",
    "\n",
    "    for epoch in range(100):\n",
    "        l=0.0\n",
    "        cnt=0\n",
    "        for batched_graph, labels in train_dataloader:\n",
    "            pred = model(batched_graph, batched_graph.ndata['h'].float())\n",
    "            loss = F.cross_entropy(pred, labels)\n",
    "            l+=loss\n",
    "            optimizer.zero_grad()\n",
    "            loss.backward()\n",
    "            optimizer.step()\n",
    "            cnt+=1\n",
    "        if(epoch%10==0):\n",
    "            print(f\"epoch : {epoch+1} loss : {l/cnt}\")\n",
    "    \n",
    "    with torch.no_grad():\n",
    "\n",
    "        num_correct = 0\n",
    "        num_tests = 0\n",
    "        pred_labels=[]\n",
    "        correct_labels=[]\n",
    "\n",
    "        for batched_graph, labels in val_dataloader:\n",
    "            pred = model(batched_graph, batched_graph.ndata['h'].float())\n",
    "            num_correct += (pred.argmax(1) == labels).sum().item()\n",
    "            pred_labels+=list(pred.argmax(1))\n",
    "            correct_labels+=list(labels)\n",
    "\n",
    "            num_tests += len(labels)\n",
    "        print('Val accuracy:', num_correct / num_tests)\n",
    "        val_reports.append(classification_report(correct_labels, pred_labels, target_names=[\"low\",\"medium\",\"high\"]))\n",
    "    torch.save(model.state_dict,f\"kfold3/trained_model/classification_{i}.model\")"
   ]
  },
  {
   "cell_type": "code",
   "execution_count": 37,
   "metadata": {},
   "outputs": [
    {
     "name": "stdout",
     "output_type": "stream",
     "text": [
      "              precision    recall  f1-score   support\n",
      "\n",
      "         low       0.61      0.56      0.59        39\n",
      "      medium       0.44      0.40      0.42        45\n",
      "        high       0.44      0.53      0.48        36\n",
      "\n",
      "    accuracy                           0.49       120\n",
      "   macro avg       0.50      0.50      0.50       120\n",
      "weighted avg       0.50      0.49      0.49       120\n",
      "\n"
     ]
    }
   ],
   "source": [
    "print(val_reports[0])"
   ]
  },
  {
   "cell_type": "code",
   "execution_count": null,
   "metadata": {},
   "outputs": [],
   "source": []
  },
  {
   "cell_type": "code",
   "execution_count": 23,
   "metadata": {},
   "outputs": [
    {
     "name": "stdout",
     "output_type": "stream",
     "text": [
      "Test accuracy: 0.5247933884297521\n"
     ]
    }
   ],
   "source": [
    "num_correct = 0\n",
    "num_tests = 0\n",
    "pred_labels=[]\n",
    "correct_labels=[]\n",
    "\n",
    "for batched_graph, labels in test_dataloader:\n",
    "    pred = model(batched_graph, batched_graph.ndata['h'].float())\n",
    "    num_correct += (pred.argmax(1) == labels).sum().item()\n",
    "    pred_labels+=list(pred.argmax(1))\n",
    "    correct_labels+=list(labels)\n",
    "\n",
    "    num_tests += len(labels)\n",
    "print('Test accuracy:', num_correct / num_tests)"
   ]
  },
  {
   "cell_type": "code",
   "execution_count": 24,
   "metadata": {},
   "outputs": [
    {
     "name": "stdout",
     "output_type": "stream",
     "text": [
      "              precision    recall  f1-score   support\n",
      "\n",
      "         low       0.65      0.66      0.65       136\n",
      "      medium       0.24      0.10      0.14        59\n",
      "        high       0.40      0.66      0.50        47\n",
      "\n",
      "    accuracy                           0.52       242\n",
      "   macro avg       0.43      0.47      0.43       242\n",
      "weighted avg       0.50      0.52      0.50       242\n",
      "\n"
     ]
    }
   ],
   "source": [
    "print(classification_report(correct_labels, pred_labels, target_names=[\"low\",\"medium\",\"high\"]))"
   ]
  },
  {
   "cell_type": "code",
   "execution_count": 25,
   "metadata": {},
   "outputs": [],
   "source": [
    "# rec,rec=precision_recall(torch.tensor(pred_labels,dtype=torch.long), torch.tensor(correct_labels,dtype=torch.long), average='none', num_classes=3)"
   ]
  },
  {
   "cell_type": "code",
   "execution_count": 25,
   "metadata": {},
   "outputs": [],
   "source": [
    "num_examples = len(dataset)\n",
    "num_train = int(num_examples)\n",
    "\n",
    "train_sampler = SubsetRandomSampler(torch.arange(num_train))\n",
    "train_dataloader = GraphDataLoader(dataset, sampler=train_sampler, batch_size=5, drop_last=False)"
   ]
  },
  {
   "cell_type": "code",
   "execution_count": 26,
   "metadata": {},
   "outputs": [
    {
     "name": "stdout",
     "output_type": "stream",
     "text": [
      "Train accuracy: 0.5166666666666667\n"
     ]
    }
   ],
   "source": [
    "num_correct = 0\n",
    "num_tests = 0\n",
    "pred_labels=[]\n",
    "correct_labels=[]\n",
    "with torch.no_grad():\n",
    "    for batched_graph, labels in train_dataloader:\n",
    "        pred = model(batched_graph, batched_graph.ndata['h'].float())\n",
    "        num_correct += (pred.argmax(1) == labels).sum().item()\n",
    "        pred_labels+=list(pred.argmax(1))\n",
    "        correct_labels+=list(labels)\n",
    "        num_tests += len(labels)\n",
    "    print('Train accuracy:', num_correct / num_tests)"
   ]
  },
  {
   "cell_type": "code",
   "execution_count": 27,
   "metadata": {},
   "outputs": [
    {
     "name": "stdout",
     "output_type": "stream",
     "text": [
      "              precision    recall  f1-score   support\n",
      "\n",
      "         low       0.60      0.58      0.59       400\n",
      "      medium       0.50      0.25      0.33       400\n",
      "        high       0.47      0.72      0.57       400\n",
      "\n",
      "    accuracy                           0.52      1200\n",
      "   macro avg       0.52      0.52      0.50      1200\n",
      "weighted avg       0.52      0.52      0.50      1200\n",
      "\n"
     ]
    }
   ],
   "source": [
    "print(classification_report(correct_labels, pred_labels, target_names=[\"low\",\"medium\",\"high\"]))"
   ]
  },
  {
   "cell_type": "code",
   "execution_count": 28,
   "metadata": {},
   "outputs": [
    {
     "name": "stdout",
     "output_type": "stream",
     "text": [
      "precision :  tensor([0.5212, 0.4233, 0.4444]) Recall :  tensor([0.6434, 0.2447, 0.5294])\n"
     ]
    }
   ],
   "source": [
    "# prec,rec=precision_recall(torch.tensor(pred_labels,dtype=torch.long), torch.tensor(correct_labels,dtype=torch.long), average='none', num_classes=3)\n",
    "# print(\"precision : \",prec,\"Recall : \",rec)"
   ]
  },
  {
   "cell_type": "code",
   "execution_count": null,
   "metadata": {},
   "outputs": [],
   "source": []
  },
  {
   "cell_type": "code",
   "execution_count": 9,
   "metadata": {},
   "outputs": [],
   "source": [
    "import json\n",
    "with open(\"kfold_500/Results/train_result.json\",\"r\") as f:\n",
    "    train_res=json.load(f)\n",
    "\n",
    "with open(\"kfold_500/Results/test_result.json\",\"r\") as f:\n",
    "    test_res=json.load(f)\n",
    "\n",
    "with open(\"kfold_500/Results/val_result.json\",\"r\") as f:\n",
    "    val_res=json.load(f)"
   ]
  },
  {
   "cell_type": "code",
   "execution_count": 10,
   "metadata": {},
   "outputs": [
    {
     "name": "stdout",
     "output_type": "stream",
     "text": [
      "              precision    recall  f1-score   support\n",
      "\n",
      "         low       0.58      0.48      0.53      2000\n",
      "      medium       0.41      0.40      0.41      2000\n",
      "        high       0.51      0.61      0.56      2000\n",
      "\n",
      "    accuracy                           0.50      6000\n",
      "   macro avg       0.50      0.50      0.50      6000\n",
      "weighted avg       0.50      0.50      0.50      6000\n",
      "\n"
     ]
    }
   ],
   "source": [
    "print(train_res)"
   ]
  },
  {
   "cell_type": "code",
   "execution_count": 11,
   "metadata": {},
   "outputs": [
    {
     "name": "stdout",
     "output_type": "stream",
     "text": [
      "              precision    recall  f1-score   support\n",
      "\n",
      "         low       0.62      0.51      0.56       400\n",
      "      medium       0.41      0.36      0.39       400\n",
      "        high       0.51      0.65      0.57       400\n",
      "\n",
      "    accuracy                           0.51      1200\n",
      "   macro avg       0.51      0.51      0.51      1200\n",
      "weighted avg       0.51      0.51      0.51      1200\n",
      "\n"
     ]
    }
   ],
   "source": [
    "print(test_res)"
   ]
  },
  {
   "cell_type": "code",
   "execution_count": 12,
   "metadata": {},
   "outputs": [
    {
     "name": "stdout",
     "output_type": "stream",
     "text": [
      "              precision    recall  f1-score   support\n",
      "\n",
      "         low       0.58      0.43      0.50       189\n",
      "      medium       0.44      0.41      0.42       216\n",
      "        high       0.47      0.62      0.53       195\n",
      "\n",
      "    accuracy                           0.48       600\n",
      "   macro avg       0.49      0.49      0.48       600\n",
      "weighted avg       0.49      0.48      0.48       600\n",
      "\n"
     ]
    }
   ],
   "source": [
    "print(val_res[9])"
   ]
  },
  {
   "cell_type": "code",
   "execution_count": null,
   "metadata": {},
   "outputs": [],
   "source": []
  }
 ],
 "metadata": {
  "kernelspec": {
   "display_name": "Python 3.8.10 64-bit",
   "language": "python",
   "name": "python3"
  },
  "language_info": {
   "codemirror_mode": {
    "name": "ipython",
    "version": 3
   },
   "file_extension": ".py",
   "mimetype": "text/x-python",
   "name": "python",
   "nbconvert_exporter": "python",
   "pygments_lexer": "ipython3",
   "version": "3.8.10"
  },
  "orig_nbformat": 4,
  "vscode": {
   "interpreter": {
    "hash": "916dbcbb3f70747c44a77c7bcd40155683ae19c65e1c03b4aa3499c5328201f1"
   }
  }
 },
 "nbformat": 4,
 "nbformat_minor": 2
}
