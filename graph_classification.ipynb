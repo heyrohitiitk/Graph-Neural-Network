{
 "cells": [
  {
   "cell_type": "code",
   "execution_count": 1,
   "metadata": {},
   "outputs": [
    {
     "name": "stderr",
     "output_type": "stream",
     "text": [
      "Using backend: pytorch\n"
     ]
    }
   ],
   "source": [
    "import dgl\n",
    "import torch\n",
    "import torch.nn as nn\n",
    "import _pickle as cPickle\n",
    "import torch.nn.functional as F\n",
    "import bz2\n",
    "from dgl.dataloading import GraphDataLoader\n",
    "from torch.utils.data.sampler import SubsetRandomSampler\n",
    "from dgl.nn import GraphConv\n",
    "from sklearn.metrics import classification_report\n",
    "from torchmetrics.functional import precision_recall"
   ]
  },
  {
   "cell_type": "code",
   "execution_count": 2,
   "metadata": {},
   "outputs": [],
   "source": [
    "class GCN(nn.Module):\n",
    "    def __init__(self, in_feats, h_feats,out_feats):\n",
    "        super(GCN, self).__init__()\n",
    "        self.conv1 = GraphConv(in_feats, h_feats)\n",
    "        self.conv2 = GraphConv(h_feats, out_feats)\n",
    "\n",
    "    def forward(self, g, in_feat):\n",
    "        h = self.conv1(g, in_feat)\n",
    "        h = F.relu(h)\n",
    "        h = self.conv2(g, h)\n",
    "        with g.local_scope():\n",
    "            g.ndata['h'] = h\n",
    "            return dgl.mean_nodes(g, 'h')"
   ]
  },
  {
   "cell_type": "code",
   "execution_count": 3,
   "metadata": {},
   "outputs": [],
   "source": [
    "class MLP(nn.Module):\n",
    "    def __init__(self,in_feats,h_feats,num_classes):\n",
    "        super(MLP,self).__init__()\n",
    "        self.fc1=nn.Linear(in_feats,h_feats)\n",
    "        self.fc2=nn.Linear(h_feats,num_classes)\n",
    "    \n",
    "    def forward(self,x):\n",
    "        x=F.relu(self.fc1(x))\n",
    "        return self.fc2(x)"
   ]
  },
  {
   "cell_type": "code",
   "execution_count": 4,
   "metadata": {},
   "outputs": [],
   "source": [
    "class Model(nn.Module):\n",
    "    def __init__(self,in_feats,h_feats,out_feats,num_class):\n",
    "        self.conv=GCN(in_feats,h_feats,out_feats)\n",
    "        self.fc=MLP(out_feats,10,num_class)\n",
    "    \n",
    "    def forward(self,g,feats):\n",
    "        c1=F.relu(self.conv(g,feats))\n",
    "        c2=F.softmax(self.fc(feats))\n",
    "        return c2"
   ]
  },
  {
   "cell_type": "code",
   "execution_count": 3,
   "metadata": {},
   "outputs": [],
   "source": [
    "g= bz2.BZ2File(\"kfold2/graph_dataset/graphs_data_All.pbz2\", 'rb')\n",
    "dataset=cPickle.load(g)\n",
    "# g1= bz2.BZ2File(\"kfold/graph_dataset/graphs_data_1000.pbz2\", 'rb')\n",
    "# g2= bz2.BZ2File(\"kfold/graph_dataset/graphs_data_2000.pbz2\", 'rb')\n",
    "# g3= bz2.BZ2File(\"kfold/graph_dataset/graphs_data_3000.pbz2\", 'rb')\n",
    "# g4= bz2.BZ2File(\"kfold/graph_dataset/graphs_data_3600.pbz2\", 'rb')\n",
    "# dataset1 = cPickle.load(g1)\n",
    "# dataset2 = cPickle.load(g2)\n",
    "# dataset3 = cPickle.load(g3)\n",
    "# dataset4 = cPickle.load(g4)"
   ]
  },
  {
   "cell_type": "code",
   "execution_count": 5,
   "metadata": {},
   "outputs": [],
   "source": [
    "# dataset=dataset1+dataset2+dataset3+dataset4"
   ]
  },
  {
   "cell_type": "code",
   "execution_count": 6,
   "metadata": {},
   "outputs": [],
   "source": [
    "g_test=bz2.BZ2File(\"kfold2/graph_dataset/graphs_data_All.pbz2\", 'rb')\n",
    "dataset_test = cPickle.load(g_test)"
   ]
  },
  {
   "cell_type": "code",
   "execution_count": 7,
   "metadata": {},
   "outputs": [],
   "source": [
    "import random\n",
    "random.shuffle(dataset)"
   ]
  },
  {
   "cell_type": "code",
   "execution_count": 8,
   "metadata": {},
   "outputs": [
    {
     "name": "stdout",
     "output_type": "stream",
     "text": [
      "1200\n"
     ]
    }
   ],
   "source": [
    "num_test=len(dataset_test)\n",
    "print(num_test)"
   ]
  },
  {
   "cell_type": "code",
   "execution_count": 9,
   "metadata": {},
   "outputs": [],
   "source": [
    "test_sampler = SubsetRandomSampler(torch.arange(num_test))\n",
    "test_dataloader = GraphDataLoader(dataset_test, sampler=test_sampler, batch_size=5, drop_last=False)"
   ]
  },
  {
   "cell_type": "code",
   "execution_count": 10,
   "metadata": {},
   "outputs": [],
   "source": [
    "# Create the model with given dimensions\n",
    "model = GCN(5, 16, 3)\n",
    "optimizer = torch.optim.Adam(model.parameters(), lr=0.001)"
   ]
  },
  {
   "cell_type": "code",
   "execution_count": 11,
   "metadata": {},
   "outputs": [
    {
     "name": "stderr",
     "output_type": "stream",
     "text": [
      "/home/rohit/.local/lib/python3.8/site-packages/torch/autocast_mode.py:162: UserWarning: User provided device_type of 'cuda', but CUDA is not available. Disabling\n",
      "  warnings.warn('User provided device_type of \\'cuda\\', but CUDA is not available. Disabling')\n"
     ]
    }
   ],
   "source": [
    "folds=10\n",
    "num_examples=len(dataset)\n",
    "fsize=num_examples//10\n",
    "val_reports=[]\n",
    "for i in range(folds):\n",
    "    trll = 0\n",
    "    trlr = i * fsize\n",
    "    vall = trlr\n",
    "    valr = i * fsize + fsize\n",
    "    trrl = valr\n",
    "    trrr = num_examples\n",
    "\n",
    "    train_left_indices = torch.arange(trll,trlr)\n",
    "    train_right_indices = torch.arange(trrl,trrr)\n",
    "\n",
    "    train_indices = torch.cat([train_left_indices,train_right_indices])\n",
    "    val_indices = torch.arange(vall,valr)\n",
    "\n",
    "    train_sampler = SubsetRandomSampler(train_indices)\n",
    "    val_sampler = SubsetRandomSampler(val_indices)\n",
    "\n",
    "    train_dataloader = GraphDataLoader(dataset, sampler=train_sampler, batch_size=5, drop_last=False)\n",
    "    val_dataloader = GraphDataLoader(dataset, sampler=val_sampler, batch_size=5, drop_last=False)\n",
    "\n",
    "\n",
    "    for epoch in range(100):\n",
    "        l=0.0\n",
    "        cnt=0\n",
    "        for batched_graph, labels in train_dataloader:\n",
    "            pred = model(batched_graph, batched_graph.ndata['h'].float())\n",
    "            loss = F.cross_entropy(pred, labels)\n",
    "            l+=loss\n",
    "            optimizer.zero_grad()\n",
    "            loss.backward()\n",
    "            optimizer.step()\n",
    "            cnt+=1\n",
    "        if(epoch%10==0):\n",
    "            print(f\"epoch : {epoch+1} loss : {l/cnt}\")\n",
    "    \n",
    "    with torch.no_grad():\n",
    "\n",
    "        num_correct = 0\n",
    "        num_tests = 0\n",
    "        pred_labels=[]\n",
    "        correct_labels=[]\n",
    "\n",
    "        for batched_graph, labels in val_dataloader:\n",
    "            pred = model(batched_graph, batched_graph.ndata['h'].float())\n",
    "            num_correct += (pred.argmax(1) == labels).sum().item()\n",
    "            pred_labels+=list(pred.argmax(1))\n",
    "            correct_labels+=list(labels)\n",
    "\n",
    "            num_tests += len(labels)\n",
    "        print('Val accuracy:', num_correct / num_tests)\n",
    "        val_reports.append(classification_report(correct_labels, pred_labels, target_names=[\"low\",\"medium\",\"high\"]))\n",
    "    torch.save(model.state_dict,f\"kfold/trained_model/classification_{i}.model\")"
   ]
  },
  {
   "cell_type": "code",
   "execution_count": 75,
   "metadata": {},
   "outputs": [],
   "source": [
    "torch.save(model.state_dict,\"kfold/trained_model/classification\")"
   ]
  },
  {
   "cell_type": "code",
   "execution_count": 87,
   "metadata": {},
   "outputs": [
    {
     "name": "stdout",
     "output_type": "stream",
     "text": [
      "              precision    recall  f1-score   support\n",
      "\n",
      "         low       0.54      0.68      0.60        41\n",
      "      medium       0.38      0.21      0.27        39\n",
      "        high       0.53      0.62      0.57        40\n",
      "\n",
      "    accuracy                           0.51       120\n",
      "   macro avg       0.48      0.50      0.48       120\n",
      "weighted avg       0.49      0.51      0.48       120\n",
      "\n"
     ]
    }
   ],
   "source": [
    "print(val_reports[4])"
   ]
  },
  {
   "cell_type": "code",
   "execution_count": null,
   "metadata": {},
   "outputs": [],
   "source": []
  },
  {
   "cell_type": "code",
   "execution_count": 78,
   "metadata": {},
   "outputs": [
    {
     "name": "stdout",
     "output_type": "stream",
     "text": [
      "Test accuracy: 0.6033057851239669\n"
     ]
    }
   ],
   "source": [
    "num_correct = 0\n",
    "num_tests = 0\n",
    "pred_labels=[]\n",
    "correct_labels=[]\n",
    "\n",
    "for batched_graph, labels in test_dataloader:\n",
    "    pred = model(batched_graph, batched_graph.ndata['h'].float())\n",
    "    num_correct += (pred.argmax(1) == labels).sum().item()\n",
    "    pred_labels+=list(pred.argmax(1))\n",
    "    correct_labels+=list(labels)\n",
    "\n",
    "    num_tests += len(labels)\n",
    "print('Test accuracy:', num_correct / num_tests)"
   ]
  },
  {
   "cell_type": "code",
   "execution_count": 79,
   "metadata": {},
   "outputs": [
    {
     "name": "stdout",
     "output_type": "stream",
     "text": [
      "              precision    recall  f1-score   support\n",
      "\n",
      "         low       0.62      0.97      0.76       136\n",
      "      medium       0.00      0.00      0.00        59\n",
      "        high       0.48      0.30      0.37        47\n",
      "\n",
      "    accuracy                           0.60       242\n",
      "   macro avg       0.37      0.42      0.37       242\n",
      "weighted avg       0.44      0.60      0.50       242\n",
      "\n"
     ]
    },
    {
     "name": "stderr",
     "output_type": "stream",
     "text": [
      "/home/rohit/.local/lib/python3.8/site-packages/sklearn/metrics/_classification.py:1327: UndefinedMetricWarning: Precision and F-score are ill-defined and being set to 0.0 in labels with no predicted samples. Use `zero_division` parameter to control this behavior.\n",
      "  _warn_prf(average, modifier, msg_start, len(result))\n",
      "/home/rohit/.local/lib/python3.8/site-packages/sklearn/metrics/_classification.py:1327: UndefinedMetricWarning: Precision and F-score are ill-defined and being set to 0.0 in labels with no predicted samples. Use `zero_division` parameter to control this behavior.\n",
      "  _warn_prf(average, modifier, msg_start, len(result))\n",
      "/home/rohit/.local/lib/python3.8/site-packages/sklearn/metrics/_classification.py:1327: UndefinedMetricWarning: Precision and F-score are ill-defined and being set to 0.0 in labels with no predicted samples. Use `zero_division` parameter to control this behavior.\n",
      "  _warn_prf(average, modifier, msg_start, len(result))\n"
     ]
    }
   ],
   "source": [
    "print(classification_report(correct_labels, pred_labels, target_names=[\"low\",\"medium\",\"high\"]))"
   ]
  },
  {
   "cell_type": "code",
   "execution_count": 25,
   "metadata": {},
   "outputs": [],
   "source": [
    "# rec,rec=precision_recall(torch.tensor(pred_labels,dtype=torch.long), torch.tensor(correct_labels,dtype=torch.long), average='none', num_classes=3)"
   ]
  },
  {
   "cell_type": "code",
   "execution_count": 80,
   "metadata": {},
   "outputs": [],
   "source": [
    "num_examples = len(dataset)\n",
    "num_train = int(num_examples)\n",
    "\n",
    "train_sampler = SubsetRandomSampler(torch.arange(num_train))\n",
    "train_dataloader = GraphDataLoader(dataset, sampler=train_sampler, batch_size=5, drop_last=False)"
   ]
  },
  {
   "cell_type": "code",
   "execution_count": 83,
   "metadata": {},
   "outputs": [
    {
     "name": "stdout",
     "output_type": "stream",
     "text": [
      "Train accuracy: 0.4866666666666667\n"
     ]
    }
   ],
   "source": [
    "num_correct = 0\n",
    "num_tests = 0\n",
    "pred_labels=[]\n",
    "correct_labels=[]\n",
    "with torch.no_grad():\n",
    "    for batched_graph, labels in train_dataloader:\n",
    "        pred = model(batched_graph, batched_graph.ndata['h'].float())\n",
    "        num_correct += (pred.argmax(1) == labels).sum().item()\n",
    "        pred_labels+=list(pred.argmax(1))\n",
    "        correct_labels+=list(labels)\n",
    "        num_tests += len(labels)\n",
    "    print('Train accuracy:', num_correct / num_tests)"
   ]
  },
  {
   "cell_type": "code",
   "execution_count": 82,
   "metadata": {},
   "outputs": [
    {
     "name": "stdout",
     "output_type": "stream",
     "text": [
      "              precision    recall  f1-score   support\n",
      "\n",
      "         low       0.53      0.66      0.59       400\n",
      "      medium       0.39      0.29      0.33       400\n",
      "        high       0.50      0.51      0.51       400\n",
      "\n",
      "    accuracy                           0.49      1200\n",
      "   macro avg       0.48      0.49      0.48      1200\n",
      "weighted avg       0.48      0.49      0.48      1200\n",
      "\n"
     ]
    }
   ],
   "source": [
    "print(classification_report(correct_labels, pred_labels, target_names=[\"low\",\"medium\",\"high\"]))"
   ]
  },
  {
   "cell_type": "code",
   "execution_count": 28,
   "metadata": {},
   "outputs": [
    {
     "name": "stdout",
     "output_type": "stream",
     "text": [
      "precision :  tensor([0.5212, 0.4233, 0.4444]) Recall :  tensor([0.6434, 0.2447, 0.5294])\n"
     ]
    }
   ],
   "source": [
    "# prec,rec=precision_recall(torch.tensor(pred_labels,dtype=torch.long), torch.tensor(correct_labels,dtype=torch.long), average='none', num_classes=3)\n",
    "# print(\"precision : \",prec,\"Recall : \",rec)"
   ]
  },
  {
   "cell_type": "code",
   "execution_count": null,
   "metadata": {},
   "outputs": [],
   "source": []
  }
 ],
 "metadata": {
  "kernelspec": {
   "display_name": "Python 3.8.10 64-bit",
   "language": "python",
   "name": "python3"
  },
  "language_info": {
   "codemirror_mode": {
    "name": "ipython",
    "version": 3
   },
   "file_extension": ".py",
   "mimetype": "text/x-python",
   "name": "python",
   "nbconvert_exporter": "python",
   "pygments_lexer": "ipython3",
   "version": "3.8.10"
  },
  "orig_nbformat": 4,
  "vscode": {
   "interpreter": {
    "hash": "916dbcbb3f70747c44a77c7bcd40155683ae19c65e1c03b4aa3499c5328201f1"
   }
  }
 },
 "nbformat": 4,
 "nbformat_minor": 2
}
